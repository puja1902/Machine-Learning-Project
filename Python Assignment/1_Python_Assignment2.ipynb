{
  "nbformat": 4,
  "nbformat_minor": 0,
  "metadata": {
    "kernelspec": {
      "display_name": "Python 3",
      "language": "python",
      "name": "python3"
    },
    "language_info": {
      "codemirror_mode": {
        "name": "ipython",
        "version": 3
      },
      "file_extension": ".py",
      "mimetype": "text/x-python",
      "name": "python",
      "nbconvert_exporter": "python",
      "pygments_lexer": "ipython3",
      "version": "3.6.8"
    },
    "colab": {
      "name": "1.Python Assignment.ipynb",
      "provenance": [],
      "collapsed_sections": []
    }
  },
  "cells": [
    {
      "cell_type": "markdown",
      "metadata": {
        "id": "l0ZzOlyxB-kf"
      },
      "source": [
        "<h1>Python: without numpy or sklearn </h1>"
      ]
    },
    {
      "cell_type": "markdown",
      "metadata": {
        "id": "C0xO8JV9B-ki"
      },
      "source": [
        "<h3> Q1: Given two matrices please print the product of those two matrices </h3>\n",
        "<pre>\n",
        "\n",
        "Ex 1: A   = [[1 3 4]\n",
        "             [2 5 7]\n",
        "             [5 9 6]]\n",
        "      B   = [[1 0 0]\n",
        "             [0 1 0]\n",
        "             [0 0 1]]\n",
        "      A*B = [[1 3 4]\n",
        "             [2 5 7]\n",
        "             [5 9 6]]\n",
        "\n",
        "     \n",
        "Ex 2: A   = [[1 2]\n",
        "             [3 4]]\n",
        "      B   = [[1 2 3 4 5]\n",
        "             [5 6 7 8 9]]\n",
        "      A*B = [[11 14 17 20 23]\n",
        "             [23 30 36 42 51]]\n",
        "             \n",
        "Ex 3: A   = [[1 2]\n",
        "             [3 4]]\n",
        "      B   = [[1 4]\n",
        "             [5 6]\n",
        "             [7 8]\n",
        "             [9 6]]\n",
        "      A*B =Not possible\n",
        "</pre>"
      ]
    },
    {
      "cell_type": "code",
      "metadata": {
        "id": "rnssAfpgB-kj",
        "colab": {
          "base_uri": "https://localhost:8080/"
        },
        "outputId": "a484a55c-9ab4-4d69-8228-d1398ce42301"
      },
      "source": [
        "# write your python code here\n",
        "# you can take the above example as sample input for your program to test\n",
        "# it should work for any general input try not to hard code for only given input examples\n",
        "\n",
        "\n",
        "# you can free to change all these codes/structure\n",
        "# here A and B are list of lists\n",
        "def matrix_mul(A, B):\n",
        "  result = []\n",
        "  x = len(A)\n",
        "  y = len(B[0])\n",
        "  result =[[0 for j in range(y)] for i in range(x)]\n",
        "\n",
        "  for i in range(len(A)):\n",
        "    for j in range(len(B[0])):\n",
        "      for k in range(len(B)):\n",
        "        result[i][j] += A[i][k] * B[k][j]\n",
        "  return(result)\n",
        "\n",
        "A   = [[1,2],[3,4]]\n",
        "B   = [[1,2,3,4,5], [5,6,7,8,9]]\n",
        "    \n",
        "matrix_mul(A, B)"
      ],
      "execution_count": 1,
      "outputs": [
        {
          "output_type": "execute_result",
          "data": {
            "text/plain": [
              "[[11, 14, 17, 20, 23], [23, 30, 37, 44, 51]]"
            ]
          },
          "metadata": {
            "tags": []
          },
          "execution_count": 1
        }
      ]
    },
    {
      "cell_type": "markdown",
      "metadata": {
        "id": "at4VwLggB-kn"
      },
      "source": [
        "<h3> Q2: Select a number randomly with probability proportional to its magnitude from the given array of n elements</h3>\n",
        "\n",
        "consider an experiment, selecting an element from the list A randomly with probability proportional to its magnitude.\n",
        "assume we are doing the same experiment for 100 times with replacement, in each experiment you will print a number that is selected randomly from A.\n",
        "\n",
        "<pre>\n",
        "Ex 1: A = [0 5 27 6 13 28 100 45 10 79]\n",
        "let f(x) denote the number of times x getting selected in 100 experiments.\n",
        "f(100) > f(79) > f(45) > f(28) > f(27) > f(13) > f(10) > f(6) > f(5) > f(0)\n",
        "</pre>"
      ]
    },
    {
      "cell_type": "code",
      "metadata": {
        "id": "B6S2dpBhB-kn",
        "colab": {
          "base_uri": "https://localhost:8080/"
        },
        "outputId": "2769b50e-4d46-4dfa-f13a-3f1775eeb8b2"
      },
      "source": [
        "import random\n",
        "\n",
        "def pick_num_from_list(A):\n",
        "    sum=0\n",
        "    cum_sum=[]\n",
        "    for i in range(len(A)):\n",
        "        sum = sum + A[i]\n",
        "        cum_sum.append(sum)\n",
        "    #print(cum_sum)\n",
        "    r = int(random.uniform(0,sum))\n",
        "\n",
        "    number=0\n",
        "    for index in range(len(cum_sum)):\n",
        "        if(r>=cum_sum[index] and r<cum_sum[index+1]):\n",
        "            return A[index+1]\n",
        "    return number\n",
        "\n",
        "def sampling_connected_to_magnitued():\n",
        "    # A = [0,5,27,6,13,28,100,45,10,79]\n",
        "    A = [1, 5, 27, 6, 13, 28, 100, 45, 10, 79]\n",
        "    a = dict()\n",
        "    A.sort()\n",
        "    \n",
        "    for i in range(0,100):\n",
        "        number = pick_num_from_list(A)\n",
        "\n",
        "        if number not in a:\n",
        "            a[number] = 1\n",
        "        else:\n",
        "            a[number]+=1\n",
        "    for i in sorted (a , reverse=True) : \n",
        "      print (('f('+ str(i) +')>'), end =\" \")\n",
        "\n",
        "\n",
        "sampling_connected_to_magnitued()"
      ],
      "execution_count": 21,
      "outputs": [
        {
          "output_type": "stream",
          "text": [
            "f(100)> f(79)> f(45)> f(28)> f(27)> f(13)> f(10)> f(6)> f(0)> "
          ],
          "name": "stdout"
        }
      ]
    },
    {
      "cell_type": "markdown",
      "metadata": {
        "id": "D1xQy2WWB-kq"
      },
      "source": [
        "<h3> Q3: Replace the digits in the string with #</h3>\n",
        "\n",
        "consider a string that will have digits in that, we need to remove all the not digits and replace the digits with #\n",
        "<pre>\n",
        "Ex 1: A = 234                Output: ###\n",
        "Ex 2: A = a2b3c4             Output: ###\n",
        "Ex 3: A = abc                Output:   (empty string)\n",
        "Ex 5: A = #2a$#b%c%561#      Output: ####\n",
        "</pre>"
      ]
    },
    {
      "cell_type": "code",
      "metadata": {
        "id": "fxczi2jzB-kr",
        "colab": {
          "base_uri": "https://localhost:8080/",
          "height": 54
        },
        "outputId": "a832ef0d-c330-40f7-f558-f0bd85ba7c70"
      },
      "source": [
        "import re\n",
        "# write your python code here\n",
        "# you can take the above example as sample input for your program to test\n",
        "# it should work for any general input try not to hard code for only given input examples\n",
        "\n",
        "# you can free to change all these codes/structure\n",
        "# String: it will be the input to your program\n",
        "def replace_digits(String):\n",
        "    # write your code\n",
        "    # \n",
        "    String = re.sub(\"[0-9]\",\"#\",String)\n",
        "    String = re.sub(\"[a-zA-z]\",\"\",String)\n",
        "\n",
        "    if len(String) == 0:\n",
        "      return \"Empty String\"\n",
        "\n",
        "    else:\n",
        "      return String\n",
        "    # modified string which is after replacing the # with digits\n",
        "\n",
        "String = input()\n",
        "replace_digits(String)"
      ],
      "execution_count": 5,
      "outputs": [
        {
          "output_type": "stream",
          "text": [
            "a2b3c4\n"
          ],
          "name": "stdout"
        },
        {
          "output_type": "execute_result",
          "data": {
            "application/vnd.google.colaboratory.intrinsic+json": {
              "type": "string"
            },
            "text/plain": [
              "'###'"
            ]
          },
          "metadata": {
            "tags": []
          },
          "execution_count": 5
        }
      ]
    },
    {
      "cell_type": "markdown",
      "metadata": {
        "id": "j7h0Ywg7B-kw"
      },
      "source": [
        "<h3> Q4: Students marks dashboard</h3>\n",
        "\n",
        "consider the marks list of class students given two lists <br>\n",
        "Students = ['student1','student2','student3','student4','student5','student6','student7','student8','student9','student10'] <br>\n",
        "Marks = [45, 78, 12, 14, 48, 43, 45, 98, 35, 80] <br>\n",
        "from the above two lists the Student[0] got Marks[0],  Student[1] got Marks[1] and so on <br><br>\n",
        "your task is to print the name of students\n",
        "<strong>a. Who got top 5 ranks, in the descending order of marks</strong> <br>\n",
        "<strong>b. Who got least 5 ranks, in the increasing order of marks</strong><br>\n",
        "<strong>d. Who got marks between  &gt;25th percentile &lt;75th percentile, in the increasing order of marks</strong>\n",
        "\n",
        "<pre>\n",
        "Ex 1: \n",
        "Students=['student1','student2','student3','student4','student5','student6','student7','student8','student9','student10'] \n",
        "Marks = [45, 78, 12, 14, 48, 43, 47, 98, 35, 80]\n",
        "a. \n",
        "student8  98\n",
        "student10 80\n",
        "student2  78\n",
        "student5  48\n",
        "student7  47\n",
        "b.\n",
        "student3 12\n",
        "student4 14\n",
        "student9 35\n",
        "student6 43\n",
        "student1 45\n",
        "c.\n",
        "student9 35\n",
        "student6 43\n",
        "student1 45\n",
        "student7 47\n",
        "student5 48\n",
        "</pre>"
      ]
    },
    {
      "cell_type": "code",
      "metadata": {
        "id": "cxPJgItsB-kx",
        "colab": {
          "base_uri": "https://localhost:8080/"
        },
        "outputId": "3eab377b-4e13-4321-df88-dc3c537af14b"
      },
      "source": [
        "## write your python code here\n",
        "# you can take the above example as sample input for your program to test\n",
        "# it should work for any general input try not to hard code for only given input examples\n",
        "\n",
        "# you can free to change all these codes/structure\n",
        "def display_dash_board(Students, Marks):\n",
        "  \n",
        "  dic = {} \n",
        "  for key in Students: \n",
        "      for value in Marks: \n",
        "          dic[key] = value \n",
        "          Marks.remove(value) \n",
        "          break  \n",
        "  print(dic)\n",
        "\n",
        "  print(\"------------------------top_5_students-----------------------------\")\n",
        "  for key,value in sorted(dic.items(), key = lambda k : k[1], reverse=True)[:5]:\n",
        "    print(\"%s = %s\" % (key,value))\n",
        "  print(\"------------------------least_5_students---------------------------\")\n",
        "  for key,value in sorted(dic.items(), key = lambda k : k[1])[:5]:\n",
        "    print(\"%s = %s\" % (key,value))\n",
        "    \n",
        "  print(\"----------------------students_within_25_and_75---------------------\")\n",
        "  res = dict()\n",
        "\n",
        "  s_max = max(dic, key=dic.get)\n",
        "  s_min = min(dic, key=dic.get)\n",
        "  num_max = dic.get(s_max)\n",
        "  num_min = dic.get(s_min)\n",
        "\n",
        "  diff = num_max - num_min\n",
        "  per_25 = diff*0.25\n",
        "  per_75 = diff*0.75\n",
        "\n",
        "  for key,value in dic.items():\n",
        "    if int(value) > per_25 and int(value)< per_75:\n",
        "      res[key] = value\n",
        "\n",
        "  for key,value in sorted(res.items(), key = lambda k : k[1]):\n",
        "    print(\"%s = %s\" % (key,value))\n",
        "\n",
        "\n",
        "Students=['student1','student2','student3','student4','student5','student6','student7','student8','student9','student10'] \n",
        "Marks = [45, 78, 12, 14, 48, 43, 47, 98, 35, 80]\n",
        "display_dash_board(Students,Marks)"
      ],
      "execution_count": 6,
      "outputs": [
        {
          "output_type": "stream",
          "text": [
            "{'student1': 45, 'student2': 78, 'student3': 12, 'student4': 14, 'student5': 48, 'student6': 43, 'student7': 47, 'student8': 98, 'student9': 35, 'student10': 80}\n",
            "------------------------top_5_students-----------------------------\n",
            "student8 = 98\n",
            "student10 = 80\n",
            "student2 = 78\n",
            "student5 = 48\n",
            "student7 = 47\n",
            "------------------------least_5_students---------------------------\n",
            "student3 = 12\n",
            "student4 = 14\n",
            "student9 = 35\n",
            "student6 = 43\n",
            "student1 = 45\n",
            "----------------------students_within_25_and_75---------------------\n",
            "student9 = 35\n",
            "student6 = 43\n",
            "student1 = 45\n",
            "student7 = 47\n",
            "student5 = 48\n"
          ],
          "name": "stdout"
        }
      ]
    },
    {
      "cell_type": "markdown",
      "metadata": {
        "id": "qha0OhQHB-k1"
      },
      "source": [
        "<h3> Q5: Find the closest points</h3>\n",
        "\n",
        "consider you have given n data points in the form of list of tuples like S=[(x1,y1),(x2,y2),(x3,y3),(x4,y4),(x5,y5),..,(xn,yn)] and a point P=(p,q) <br> your task is to find 5 closest points(based on cosine distance) in S from P\n",
        "<br>cosine distance between two points (x,y) and (p,q) is defind as $cos^{-1}(\\frac{(x\\cdot p+y\\cdot q)}{\\sqrt(x^2+y^2)\\cdot\\sqrt(p^2+q^2)})$\n",
        "<pre>\n",
        "Ex:\n",
        "\n",
        "S= [(1,2),(3,4),(-1,1),(6,-7),(0, 6),(-5,-8),(-1,-1)(6,0),(1,-1)]\n",
        "P= (3,-4)\n",
        "<img src='https://i.imgur.com/vIFPOcG.jpg', width=300>\n",
        "Output:\n",
        "(6,-7)\n",
        "(1,-1)\n",
        "(6,0)\n",
        "(-5,-8)\n",
        "(-1,-1)\n",
        "</pre>"
      ]
    },
    {
      "cell_type": "code",
      "metadata": {
        "id": "wA5I1g-2B-k2",
        "colab": {
          "base_uri": "https://localhost:8080/"
        },
        "outputId": "44d9e089-8a1d-417f-8b83-26a332c4775f"
      },
      "source": [
        "import math\n",
        "\n",
        "# write your python code here\n",
        "# you can take the above example as sample input for your program to test\n",
        "# it should work for any general input try not to hard code for only given input examples\n",
        "# you can free to change all these codes/structure\n",
        "\n",
        "\n",
        "# here S is list of tuples and P is a tuple ot len=2\n",
        "def closest_points_to_p():\n",
        "    S = [(1, 2), (3, 4), (-1, 1), (6, -7), (0, 6), (-5, -8), (-1, -1), (6, 0), (1, -1)]\n",
        "    cosine_dist = []\n",
        "    P = (3,-4)\n",
        "\n",
        "    for a, b in S:\n",
        "\n",
        "        num = a * P[0] + b * P[1]\n",
        "        den = math.sqrt(a * a + b * b) * math.sqrt(P[0] * P[0] + P[1] * P[1])\n",
        "        cosine_dist.append(math.acos(num/den))\n",
        "    X = cosine_dist\n",
        "    Y = [S for S in sorted(zip(S,X), key=lambda i:i[1])]\n",
        "    k = Y[:5] \n",
        "    for i, j in k:\n",
        "        print(i)\n",
        "\n",
        "closest_points_to_p()"
      ],
      "execution_count": 7,
      "outputs": [
        {
          "output_type": "stream",
          "text": [
            "(6, -7)\n",
            "(1, -1)\n",
            "(6, 0)\n",
            "(-5, -8)\n",
            "(-1, -1)\n"
          ],
          "name": "stdout"
        }
      ]
    },
    {
      "cell_type": "markdown",
      "metadata": {
        "id": "-g11jeAiB-k5"
      },
      "source": [
        "<h3> Q6: Find Which line separates oranges and apples</h3>\n",
        "consider you have given two set of data points in the form of list of tuples like \n",
        "<pre>\n",
        "Red =[(R11,R12),(R21,R22),(R31,R32),(R41,R42),(R51,R52),..,(Rn1,Rn2)]\n",
        "Blue=[(B11,B12),(B21,B22),(B31,B32),(B41,B42),(B51,B52),..,(Bm1,Bm2)]\n",
        "</pre>\n",
        "and set of line equations(in the string formate, i.e list of strings)\n",
        "<pre>\n",
        "Lines = [a1x+b1y+c1,a2x+b2y+c2,a3x+b3y+c3,a4x+b4y+c4,..,K lines]\n",
        "Note: you need to string parsing here and get the coefficients of x,y and intercept\n",
        "</pre>\n",
        "your task is to for each line that is given print \"YES\"/\"NO\", you will print yes, if all the red points are one side of the line and blue points are other side of the line, otherwise no\n",
        "<pre>\n",
        "Ex:\n",
        "Red= [(1,1),(2,1),(4,2),(2,4), (-1,4)]\n",
        "Blue= [(-2,-1),(-1,-2),(-3,-2),(-3,-1),(1,-3)]\n",
        "Lines=[\"1x+1y+0\",\"1x-1y+0\",\"1x+0y-3\",\"0x+1y-0.5\"]\n",
        "<img src='https://i.imgur.com/DoQf7mE.jpg' width=400>\n",
        "Output:\n",
        "YES\n",
        "NO\n",
        "NO\n",
        "YES\n",
        "</pre>"
      ]
    },
    {
      "cell_type": "code",
      "metadata": {
        "id": "eRxExaTRB-k6",
        "colab": {
          "base_uri": "https://localhost:8080/"
        },
        "outputId": "be19164f-1c1e-4882-fbca-0f31d516d9bd"
      },
      "source": [
        "import math\n",
        "# write your python code here\n",
        "# you can take the above example as sample input for your program to test\n",
        "# it should work for any general input try not to hard code for only given input strings\n",
        "\n",
        "\n",
        "# you can free to change all these codes/structure\n",
        "import math\n",
        "\n",
        "\n",
        "def i_am_the_one(red, blue, line):\n",
        "    red_point = -1\n",
        "\n",
        "    if eval(line.replace('x', '*%s' % red[0][0]).replace('y', '*%s' % red[0][1])) > 0:\n",
        "        red_point = 1\n",
        "\n",
        "    for red_p in red:\n",
        "        if red_point == 1 and eval(\n",
        "                line.replace('x', '*%s' % red_p[0]).replace('y', '*%s' % red_p[1])) < 0:\n",
        "            return 'NO'\n",
        "\n",
        "        if red_point == -1 and eval(\n",
        "                line.replace('x', '*%s' % red_p[0]).replace('y', '*%s' % red_p[1])) > 0:\n",
        "            return 'NO'\n",
        "\n",
        "\n",
        "    blue_pont = -1 * red_point\n",
        "\n",
        "    for blue_p in blue:\n",
        "        if blue_pont == 1 and eval(\n",
        "                line.replace('x', '*%s' % blue_p[0]).replace('y', '*%s' % blue_p[1])) < 0:\n",
        "            return 'NO'\n",
        "\n",
        "        if blue_pont == -1 and eval(\n",
        "                line.replace('x', '*%s' % blue_p[0]).replace('y', '*%s' % blue_p[1])) > 0:\n",
        "            return 'NO'\n",
        "\n",
        "    return 'YES'\n",
        "\n",
        "\n",
        "Red = [(1, 1), (2, 1), (4, 2), (2, 4), (-1, 4)]\n",
        "Blue = [(-2, -1), (-1, -2), (-3, -2), (-3, -1), (1, -3)]\n",
        "\n",
        "Lines = [\"1x+1y+0\", \"1x-1y+0\", \"1x+0y-3\", \"0x+1y-0.5\"]\n",
        "\n",
        "for i in Lines:\n",
        "    result = i_am_the_one(Red, Blue, i)\n",
        "    print(result)"
      ],
      "execution_count": 8,
      "outputs": [
        {
          "output_type": "stream",
          "text": [
            "YES\n",
            "NO\n",
            "NO\n",
            "YES\n"
          ],
          "name": "stdout"
        }
      ]
    },
    {
      "cell_type": "markdown",
      "metadata": {
        "id": "9OBpURbNB-k9"
      },
      "source": [
        "<h3> Q7: Filling the missing values in the specified formate</h3>\n",
        "You will be given a string with digits and '\\_'(missing value) symbols you have to replace the '\\_' symbols as explained \n",
        "<pre>\n",
        "Ex 1: _, _, _, 24 ==> 24/4, 24/4, 24/4, 24/4 i.e we. have distributed the 24 equally to all 4 places <br>\n",
        "Ex 2: 40, _, _, _, 60 ==> (60+40)/5,(60+40)/5,(60+40)/5,(60+40)/5,(60+40)/5 ==> 20, 20, 20, 20, 20 i.e. the sum of (60+40) is distributed qually to all 5 places<br>\n",
        "Ex 3: 80, _, _, _, _  ==> 80/5,80/5,80/5,80/5,80/5 ==> 16, 16, 16, 16, 16 i.e. the 80 is distributed qually to all 5 missing values that are right to it<br>\n",
        "Ex 4: _, _, 30, _, _, _, 50, _, _  \n",
        "==> we will fill the missing values from left to right \n",
        "    a. first we will distribute the 30 to left two missing values (10, 10, 10, _, _, _, 50, _, _)\n",
        "    b. now distribute the sum (10+50) missing values in between (10, 10, 12, 12, 12, 12, 12, _, _) \n",
        "    c. now we will distribute 12 to right side missing values (10, 10, 12, 12, 12, 12, 4, 4, 4)\n",
        "</pre>\n",
        "for a given string with comma seprate values, which will have both missing values numbers like ex: \"_, _, x, _, _, _\"\n",
        "you need fill the missing values\n",
        "\n",
        "Q: your program reads a string like ex: \"_, _, x, _, _, _\" and returns the filled sequence\n",
        "\n",
        "Ex: \n",
        "<pre>\n",
        "Input1: \"_,_,_,24\"\n",
        "Output1: 6,6,6,6\n",
        "\n",
        "Input2: \"40,_,_,_,60\"\n",
        "Output2: 20,20,20,20,20\n",
        "\n",
        "Input3: \"80,_,_,_,_\"\n",
        "Output3: 16,16,16,16,16\n",
        "\n",
        "Input4: \"_,_,30,_,_,_,50,_,_\"\n",
        "Output4: 10,10,12,12,12,12,4,4,4\n",
        "</pre>\n",
        "\n"
      ]
    },
    {
      "cell_type": "code",
      "metadata": {
        "id": "nZmpzHs_B-k-",
        "colab": {
          "base_uri": "https://localhost:8080/"
        },
        "outputId": "24160b4c-0306-4c41-da03-c1e67cf1ea6e"
      },
      "source": [
        "# write your python code here\n",
        "# you can take the above example as sample input for your program to test\n",
        "# it should work for any general input try not to hard code for only given input strings\n",
        "\n",
        "\n",
        "# you can free to change all these codes/structure\n",
        "def fun(x, a, b):\n",
        "    if a == -1:\n",
        "        v = float(x[b])/(b+1)\n",
        "        for i in range(a+1,b+1):\n",
        "            x[i] = int(v)\n",
        "    elif b == -1:\n",
        "        v = float(x[a])/(len(x)-a)\n",
        "        for i in range(a, len(x)):\n",
        "            x[i] = int(v)\n",
        "    else:\n",
        "        v = (float(x[a])+float(x[b]))/(b-a+1)\n",
        "        for i in range(a,b+1):\n",
        "            x[i] = int(v)\n",
        "    return x\n",
        "\n",
        "def replace(text):\n",
        "    # Create array from the string\n",
        "    x = text.replace(\" \",\"\").split(\",\")\n",
        "    # Get all the pairs of indices having number\n",
        "    y = [i for i, v in enumerate(x) if v != '_']\n",
        "    # Starting with _ ?\n",
        "    if y[0] != 0:\n",
        "        y = [-1] + y\n",
        "    # Ending with _ ?\n",
        "    if y[-1] != len(x)-1:\n",
        "        y = y + [-1]    \n",
        "    # run over all the pairs\n",
        "    for (a, b) in zip(y[:-1], y[1:]): \n",
        "        fun(x,a,b)          \n",
        "    return x\n",
        "\n",
        "# Test cases\n",
        "tests = [\n",
        "    \"_,_,_,24\",\n",
        "    \"40,_,_,_,60\",\n",
        "    \"80,_,_,_,_\",\n",
        "     \"_,_,30,_,_,_,50,_,_\"]\n",
        "\n",
        "for i in tests:\n",
        "    print (replace(i))"
      ],
      "execution_count": 9,
      "outputs": [
        {
          "output_type": "stream",
          "text": [
            "[6, 6, 6, 6]\n",
            "[20, 20, 20, 20, 20]\n",
            "[16, 16, 16, 16, 16]\n",
            "[10, 10, 12, 12, 12, 12, 4, 4, 4]\n"
          ],
          "name": "stdout"
        }
      ]
    },
    {
      "cell_type": "markdown",
      "metadata": {
        "id": "RBz4pzlfB-lB"
      },
      "source": [
        "<h3> Q8: Filling the missing values in the specified formate</h3>\n",
        "You will be given a list of lists, each sublist will be of length 2 i.e. [[x,y],[p,q],[l,m]..[r,s]]\n",
        "consider its like a martrix of n rows and two columns\n",
        "1. the first column F will contain only 5 uniques values (F1, F2, F3, F4, F5)\n",
        "2. the second column S will contain only 3 uniques values (S1, S2, S3)\n",
        "<pre>\n",
        "your task is to find\n",
        "a. Probability of P(F=F1|S==S1), P(F=F1|S==S2), P(F=F1|S==S3)\n",
        "b. Probability of P(F=F2|S==S1), P(F=F2|S==S2), P(F=F2|S==S3)\n",
        "c. Probability of P(F=F3|S==S1), P(F=F3|S==S2), P(F=F3|S==S3)\n",
        "d. Probability of P(F=F4|S==S1), P(F=F4|S==S2), P(F=F4|S==S3)\n",
        "e. Probability of P(F=F5|S==S1), P(F=F5|S==S2), P(F=F5|S==S3)\n",
        "</pre>\n",
        "Ex:\n",
        "\n",
        "<pre>\n",
        "[[F1,S1],[F2,S2],[F3,S3],[F1,S2],[F2,S3],[F3,S2],[F2,S1],[F4,S1],[F4,S3],[F5,S1]]\n",
        "\n",
        "a. P(F=F1|S==S1)=1/4, P(F=F1|S==S2)=1/3, P(F=F1|S==S3)=0/3\n",
        "b. P(F=F2|S==S1)=1/4, P(F=F2|S==S2)=1/3, P(F=F2|S==S3)=1/3\n",
        "c. P(F=F3|S==S1)=0/4, P(F=F3|S==S2)=1/3, P(F=F3|S==S3)=1/3\n",
        "d. P(F=F4|S==S1)=1/4, P(F=F4|S==S2)=0/3, P(F=F4|S==S3)=1/3\n",
        "e. P(F=F5|S==S1)=1/4, P(F=F5|S==S2)=0/3, P(F=F5|S==S3)=0/3\n",
        "</pre>\n",
        "\n",
        "\n"
      ]
    },
    {
      "cell_type": "code",
      "metadata": {
        "id": "e-1giz1MB-lC",
        "colab": {
          "base_uri": "https://localhost:8080/"
        },
        "outputId": "f7f6ad45-9fe1-4cd3-b448-269ade48d56c"
      },
      "source": [
        "# write your python code here\n",
        "# you can take the above example as sample input for your program to test\n",
        "# it should work for any general input try not to hard code for only given input strings\n",
        "\n",
        "# you can free to change all these codes/structure\n",
        "dictionary1 = {'F1S1':0,'F2S1':0,'F3S1':0,'F4S1':0,'F5S1':0,'F1S2':0,'F2S2':0,'F3S2':0,'F4S2':0,'F5S2':0,'F1S3':0,'F2S3':0,'F3S3':0,'F4S3':0,'F5S3':0,}\n",
        "\n",
        "dictionary2= {'S1':0,'S2':0,'S3':0}\n",
        "\n",
        "def compute_conditional_probabilites(A):\n",
        "  \n",
        "  for i in range(len(A)):\n",
        "    k = A[i][0]+A[i][1]\n",
        "    dictionary1[k] += 1\n",
        "    dictionary2[A[i][1]] += 1\n",
        "\n",
        "\n",
        "A = [['F1','S1'],['F2','S2'],['F3','S3'],['F1','S2'],['F2','S3'],['F3','S2'],['F2','S1'],['F4','S1'],['F4','S3'],['F5','S1']]\n",
        "\n",
        "compute_conditional_probabilites(A)\n",
        "print('Probability of P(F=F1|S==S1)',(dictionary1['F1S1']/dictionary2['S1']))\n",
        "print('Probability of P(F=F1|S==S2)',(dictionary1['F1S2']/dictionary2['S2']))\n",
        "print('Probability of P(F=F1|S==S3)',(dictionary1['F1S3']/dictionary2['S3']))\n",
        "print('Probability of P(F=F2|S==S1)',(dictionary1['F2S1']/dictionary2['S1']))\n",
        "print('Probability of P(F=F2|S==S2)',(dictionary1['F2S2']/dictionary2['S2']))\n",
        "print('Probability of P(F=F2|S==S3)',(dictionary1['F2S3']/dictionary2['S3']))\n",
        "print('Probability of P(F=F3|S==S1)',(dictionary1['F3S1']/dictionary2['S1']))\n",
        "print('Probability of P(F=F3|S==S2)',(dictionary1['F3S2']/dictionary2['S2']))\n",
        "print('Probability of P(F=F3|S==S3)',(dictionary1['F3S3']/dictionary2['S3']))\n",
        "print('Probability of P(F=F4|S==S1)',(dictionary1['F4S1']/dictionary2['S1']))\n",
        "print('Probability of P(F=F4|S==S2)',(dictionary1['F4S2']/dictionary2['S2']))\n",
        "print('Probability of P(F=F4|S==S3)',(dictionary1['F4S3']/dictionary2['S3']))\n",
        "print('Probability of P(F=F5|S==S1)',(dictionary1['F5S1']/dictionary2['S1']))\n",
        "print('Probability of P(F=F5|S==S2)',(dictionary1['F5S2']/dictionary2['S2']))\n",
        "print('Probability of P(F=F5|S==S3)',(dictionary1['F5S3']/dictionary2['S3']))"
      ],
      "execution_count": 10,
      "outputs": [
        {
          "output_type": "stream",
          "text": [
            "Probability of P(F=F1|S==S1) 0.25\n",
            "Probability of P(F=F1|S==S2) 0.3333333333333333\n",
            "Probability of P(F=F1|S==S3) 0.0\n",
            "Probability of P(F=F2|S==S1) 0.25\n",
            "Probability of P(F=F2|S==S2) 0.3333333333333333\n",
            "Probability of P(F=F2|S==S3) 0.3333333333333333\n",
            "Probability of P(F=F3|S==S1) 0.0\n",
            "Probability of P(F=F3|S==S2) 0.3333333333333333\n",
            "Probability of P(F=F3|S==S3) 0.3333333333333333\n",
            "Probability of P(F=F4|S==S1) 0.25\n",
            "Probability of P(F=F4|S==S2) 0.0\n",
            "Probability of P(F=F4|S==S3) 0.3333333333333333\n",
            "Probability of P(F=F5|S==S1) 0.25\n",
            "Probability of P(F=F5|S==S2) 0.0\n",
            "Probability of P(F=F5|S==S3) 0.0\n"
          ],
          "name": "stdout"
        }
      ]
    },
    {
      "cell_type": "markdown",
      "metadata": {
        "id": "n4HS87QmB-lF"
      },
      "source": [
        "<h3> Q9: Given two sentances S1, S2</h3>\n",
        "You will be given two sentances S1, S2 your task is to find \n",
        "<pre>\n",
        "a. Number of common words between S1, S2\n",
        "b. Words in S1 but not in S2\n",
        "c. Words in S2 but not in S1\n",
        "</pre>\n",
        "\n",
        "Ex: \n",
        "<pre>\n",
        "S1= \"the first column F will contain only 5 uniques values\"\n",
        "S2= \"the second column S will contain only 3 uniques values\"\n",
        "Output:\n",
        "a. 7\n",
        "b. ['first','F','5']\n",
        "c. ['second','S','3']\n",
        "</pre>"
      ]
    },
    {
      "cell_type": "code",
      "metadata": {
        "id": "Ez7hlHK0B-lG",
        "colab": {
          "base_uri": "https://localhost:8080/"
        },
        "outputId": "1de426a7-e7e4-41a4-91ef-da914a8a7ce9"
      },
      "source": [
        "import re\n",
        "# write your python code here\n",
        "# you can take the above example as sample input for your program to test\n",
        "# it should work for any general input try not to hard code for only given input strings\n",
        "\n",
        "# you can free to change all these codes/structure\n",
        "def string_features(s1, s2):\n",
        "  result1 = s1.split(' ')\n",
        "  result2 = s2.split(' ')\n",
        "\n",
        "  a = 0\n",
        "  b = []\n",
        "  c = []\n",
        "\n",
        "  res = list(set(result1) - set(result2))\n",
        "  res2 = list(set(result2) - set(result1))\n",
        "\n",
        "  for i in set(result1):\n",
        "    for j in set(result2):\n",
        "      if i == j:\n",
        "        a = a+1\n",
        "  print(a)\n",
        "  print(res)\n",
        "  print(res2)\n",
        "\n",
        "s1 = \"the first column F will contain only 5 uniques values\"\n",
        "s2 = \"the second column S will contain only 3 uniques values\"\n",
        "string_features(s1, s2)\n"
      ],
      "execution_count": 11,
      "outputs": [
        {
          "output_type": "stream",
          "text": [
            "7\n",
            "['5', 'first', 'F']\n",
            "['3', 'second', 'S']\n"
          ],
          "name": "stdout"
        }
      ]
    },
    {
      "cell_type": "markdown",
      "metadata": {
        "id": "XefXVEjCB-lI"
      },
      "source": [
        "<h3> Q10: Given two sentances S1, S2</h3>\n",
        "You will be given a list of lists, each sublist will be of length 2 i.e. [[x,y],[p,q],[l,m]..[r,s]]\n",
        "consider its like a martrix of n rows and two columns\n",
        "\n",
        "a. the first column Y will contain interger values <br>\n",
        "b. the second column $Y_{score}$ will be having float values <br>\n",
        "Your task is to find the value of $f(Y,Y_{score}) = -1*\\frac{1}{n}\\Sigma_{for each Y,Y_{score} pair}(Ylog10(Y_{score})+(1-Y)log10(1-Y_{score}))$ here n is the number of rows in the matrix\n",
        "<pre>\n",
        "Ex:\n",
        "[[1, 0.4], [0, 0.5], [0, 0.9], [0, 0.3], [0, 0.6], [1, 0.1], [1, 0.9], [1, 0.8]]\n",
        "output:\n",
        "0.4243099\n",
        "</pre>\n",
        "$\\frac{-1}{8}\\cdot((1\\cdot log_{10}(0.4)+0\\cdot log_{10}(0.6))+(0\\cdot log_{10}(0.5)+1\\cdot log_{10}(0.5)) + ... + (1\\cdot log_{10}(0.8)+0\\cdot log_{10}(0.2)) )$"
      ]
    },
    {
      "cell_type": "code",
      "metadata": {
        "id": "N9zkagyNB-lJ",
        "colab": {
          "base_uri": "https://localhost:8080/"
        },
        "outputId": "b095717b-b7a9-4e3e-fecc-bdd7a4fd878f"
      },
      "source": [
        "from math import log\n",
        "# write your python code here\n",
        "# you can take the above example as sample input for your program to test\n",
        "# it should work for any general input try not to hard code for only given input strings\n",
        "\n",
        "\n",
        "# you can free to change all these codes/structure\n",
        "def compute_log_loss(matrix):\n",
        "  logistic_loss = 0\n",
        "  for row in matrix:\n",
        "    logistic_loss += (row[0] * log(row[1], 10) + ((1 - row[0]) * log(1 - row[1], 10)))\n",
        "\n",
        "    log_loss = -1 * logistic_loss / len(matrix)\n",
        "    \n",
        "  return log_loss\n",
        "\n",
        "A = [[1, 0.4], [0, 0.5], [0, 0.9], [0, 0.3], [0, 0.6], [1, 0.1], [1, 0.9], [1, 0.8]]\n",
        "loss = compute_log_loss(A)\n",
        "print(loss)\n",
        "  "
      ],
      "execution_count": 12,
      "outputs": [
        {
          "output_type": "stream",
          "text": [
            "0.42430993457031635\n"
          ],
          "name": "stdout"
        }
      ]
    }
  ]
}