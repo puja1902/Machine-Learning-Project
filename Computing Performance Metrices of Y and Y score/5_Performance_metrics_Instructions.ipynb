{
  "nbformat": 4,
  "nbformat_minor": 0,
  "metadata": {
    "colab": {
      "name": "5_Performance_metrics_Instructions.ipynb",
      "provenance": [],
      "collapsed_sections": [],
      "toc_visible": true
    },
    "language_info": {
      "codemirror_mode": {
        "name": "ipython",
        "version": 3
      },
      "file_extension": ".py",
      "mimetype": "text/x-python",
      "name": "python",
      "nbconvert_exporter": "python",
      "pygments_lexer": "ipython3",
      "version": "3.6.8"
    },
    "kernelspec": {
      "display_name": "Python 3",
      "language": "python",
      "name": "python3"
    }
  },
  "cells": [
    {
      "cell_type": "markdown",
      "metadata": {
        "id": "s0Ej_bXyQvnV"
      },
      "source": [
        "# Compute performance metrics for the given Y and Y_score without sklearn"
      ]
    },
    {
      "cell_type": "code",
      "metadata": {
        "id": "4CHb6NE7Qvnc"
      },
      "source": [
        "import numpy as np\n",
        "import pandas as pd\n",
        "# other than these two you should not import any other packages"
      ],
      "execution_count": 1,
      "outputs": []
    },
    {
      "cell_type": "markdown",
      "metadata": {
        "id": "KbsWXuDaQvnq"
      },
      "source": [
        "<pre>\n",
        "<font color='red'><b>A.</b></font> Compute performance metrics for the given data <strong>5_a.csv</strong>\n",
        "   <b>Note 1:</b> in this data you can see number of positive points >> number of negatives points\n",
        "   <b>Note 2:</b> use pandas or numpy to read the data from <b>5_a.csv</b>\n",
        "   <b>Note 3:</b> you need to derive the class labels from given score</pre> $y^{pred}= \\text{[0 if y_score < 0.5 else 1]}$\n",
        "\n",
        "<pre>\n",
        "<ol>\n",
        "<li> Compute Confusion Matrix </li>\n",
        "<li> Compute F1 Score </li>\n",
        "<li> Compute AUC Score, you need to compute different thresholds and for each threshold compute tpr,fpr and then use               numpy.trapz(tpr_array, fpr_array) <a href='https://stackoverflow.com/q/53603376/4084039'>https://stackoverflow.com/q/53603376/4084039</a>, <a href='https://stackoverflow.com/a/39678975/4084039'>https://stackoverflow.com/a/39678975/4084039</a> Note: it should be numpy.trapz(tpr_array, fpr_array) not numpy.trapz(fpr_array, tpr_array)</li>\n",
        "<li> Compute Accuracy Score </li>\n",
        "</ol>\n",
        "</pre>"
      ]
    },
    {
      "cell_type": "code",
      "metadata": {
        "id": "WaFLW7oBQvnt",
        "colab": {
          "base_uri": "https://localhost:8080/",
          "height": 195
        },
        "outputId": "ed524a2b-6176-422e-e5fa-4b184864d37b"
      },
      "source": [
        "# write your code here\r\n",
        "data=pd.read_csv(\"5_a.csv\")\r\n",
        "df = data.copy()\r\n",
        "df.head()"
      ],
      "execution_count": 2,
      "outputs": [
        {
          "output_type": "execute_result",
          "data": {
            "text/html": [
              "<div>\n",
              "<style scoped>\n",
              "    .dataframe tbody tr th:only-of-type {\n",
              "        vertical-align: middle;\n",
              "    }\n",
              "\n",
              "    .dataframe tbody tr th {\n",
              "        vertical-align: top;\n",
              "    }\n",
              "\n",
              "    .dataframe thead th {\n",
              "        text-align: right;\n",
              "    }\n",
              "</style>\n",
              "<table border=\"1\" class=\"dataframe\">\n",
              "  <thead>\n",
              "    <tr style=\"text-align: right;\">\n",
              "      <th></th>\n",
              "      <th>y</th>\n",
              "      <th>proba</th>\n",
              "    </tr>\n",
              "  </thead>\n",
              "  <tbody>\n",
              "    <tr>\n",
              "      <th>0</th>\n",
              "      <td>1.0</td>\n",
              "      <td>0.637387</td>\n",
              "    </tr>\n",
              "    <tr>\n",
              "      <th>1</th>\n",
              "      <td>1.0</td>\n",
              "      <td>0.635165</td>\n",
              "    </tr>\n",
              "    <tr>\n",
              "      <th>2</th>\n",
              "      <td>1.0</td>\n",
              "      <td>0.766586</td>\n",
              "    </tr>\n",
              "    <tr>\n",
              "      <th>3</th>\n",
              "      <td>1.0</td>\n",
              "      <td>0.724564</td>\n",
              "    </tr>\n",
              "    <tr>\n",
              "      <th>4</th>\n",
              "      <td>1.0</td>\n",
              "      <td>0.889199</td>\n",
              "    </tr>\n",
              "  </tbody>\n",
              "</table>\n",
              "</div>"
            ],
            "text/plain": [
              "     y     proba\n",
              "0  1.0  0.637387\n",
              "1  1.0  0.635165\n",
              "2  1.0  0.766586\n",
              "3  1.0  0.724564\n",
              "4  1.0  0.889199"
            ]
          },
          "metadata": {
            "tags": []
          },
          "execution_count": 2
        }
      ]
    },
    {
      "cell_type": "code",
      "metadata": {
        "id": "kgTgvnHudDLe"
      },
      "source": [
        "def getAnalysis(proba):\r\n",
        "    if proba < 0.5:\r\n",
        "        return 0\r\n",
        "    else:\r\n",
        "        return 1"
      ],
      "execution_count": 3,
      "outputs": []
    },
    {
      "cell_type": "code",
      "metadata": {
        "id": "EHtxFb1zdF2t",
        "outputId": "66c45faa-6a6b-4158-ff13-eeaa52dc615f",
        "colab": {
          "base_uri": "https://localhost:8080/",
          "height": 195
        }
      },
      "source": [
        "df['y_pre'] = df['proba'].apply(getAnalysis)\r\n",
        "df.head()"
      ],
      "execution_count": 4,
      "outputs": [
        {
          "output_type": "execute_result",
          "data": {
            "text/html": [
              "<div>\n",
              "<style scoped>\n",
              "    .dataframe tbody tr th:only-of-type {\n",
              "        vertical-align: middle;\n",
              "    }\n",
              "\n",
              "    .dataframe tbody tr th {\n",
              "        vertical-align: top;\n",
              "    }\n",
              "\n",
              "    .dataframe thead th {\n",
              "        text-align: right;\n",
              "    }\n",
              "</style>\n",
              "<table border=\"1\" class=\"dataframe\">\n",
              "  <thead>\n",
              "    <tr style=\"text-align: right;\">\n",
              "      <th></th>\n",
              "      <th>y</th>\n",
              "      <th>proba</th>\n",
              "      <th>y_pre</th>\n",
              "    </tr>\n",
              "  </thead>\n",
              "  <tbody>\n",
              "    <tr>\n",
              "      <th>0</th>\n",
              "      <td>1.0</td>\n",
              "      <td>0.637387</td>\n",
              "      <td>1</td>\n",
              "    </tr>\n",
              "    <tr>\n",
              "      <th>1</th>\n",
              "      <td>1.0</td>\n",
              "      <td>0.635165</td>\n",
              "      <td>1</td>\n",
              "    </tr>\n",
              "    <tr>\n",
              "      <th>2</th>\n",
              "      <td>1.0</td>\n",
              "      <td>0.766586</td>\n",
              "      <td>1</td>\n",
              "    </tr>\n",
              "    <tr>\n",
              "      <th>3</th>\n",
              "      <td>1.0</td>\n",
              "      <td>0.724564</td>\n",
              "      <td>1</td>\n",
              "    </tr>\n",
              "    <tr>\n",
              "      <th>4</th>\n",
              "      <td>1.0</td>\n",
              "      <td>0.889199</td>\n",
              "      <td>1</td>\n",
              "    </tr>\n",
              "  </tbody>\n",
              "</table>\n",
              "</div>"
            ],
            "text/plain": [
              "     y     proba  y_pre\n",
              "0  1.0  0.637387      1\n",
              "1  1.0  0.635165      1\n",
              "2  1.0  0.766586      1\n",
              "3  1.0  0.724564      1\n",
              "4  1.0  0.889199      1"
            ]
          },
          "metadata": {
            "tags": []
          },
          "execution_count": 4
        }
      ]
    },
    {
      "cell_type": "code",
      "metadata": {
        "id": "tuVJL8tddIl3"
      },
      "source": [
        "y= df['y']\r\n",
        "proba = df['y_pre']\r\n",
        "\r\n",
        "def confusion(y,proba):\r\n",
        "\r\n",
        "  TP = 0\r\n",
        "  FP = 0\r\n",
        "  FN = 0\r\n",
        "  TN = 0\r\n",
        "\r\n",
        "  for i, j in zip(y, proba):\r\n",
        "    if i == 1 and j == 1:\r\n",
        "      TP = TP + 1\r\n",
        "    \r\n",
        "    \r\n",
        "    elif i == 0 and j == 1:\r\n",
        "      FP = FP + 1\r\n",
        "\r\n",
        "    \r\n",
        "    elif i == 0 and j == 0:\r\n",
        "      TN = TN + 1\r\n",
        "\r\n",
        "\r\n",
        "    elif i == 1 and j == 0:\r\n",
        "      FN = FN + 1                           \r\n",
        "\r\n",
        "\r\n",
        "  return TP, FP, FN, TN\r\n",
        "\r\n",
        "TP, FP, FN, TN = confusion(y,proba)"
      ],
      "execution_count": 5,
      "outputs": []
    },
    {
      "cell_type": "code",
      "metadata": {
        "id": "T7X8zBrkdL0v",
        "outputId": "acb93e9c-fcd6-4ae6-de1b-d77a6dac5a0f",
        "colab": {
          "base_uri": "https://localhost:8080/"
        }
      },
      "source": [
        "A = [TN,FN]\r\n",
        "B = [FP,TP]\r\n",
        "\r\n",
        "print(A,B)"
      ],
      "execution_count": 6,
      "outputs": [
        {
          "output_type": "stream",
          "text": [
            "[0, 0] [100, 10000]\n"
          ],
          "name": "stdout"
        }
      ]
    },
    {
      "cell_type": "code",
      "metadata": {
        "id": "7zeYbYE5dOd5",
        "outputId": "a2b8535b-0ac5-4294-ff88-3fbe10bc39a6",
        "colab": {
          "base_uri": "https://localhost:8080/"
        }
      },
      "source": [
        "Confusion_matrix = np.matrix([A, B])\r\n",
        "\r\n",
        "print(Confusion_matrix )"
      ],
      "execution_count": 7,
      "outputs": [
        {
          "output_type": "stream",
          "text": [
            "[[    0     0]\n",
            " [  100 10000]]\n"
          ],
          "name": "stdout"
        }
      ]
    },
    {
      "cell_type": "code",
      "metadata": {
        "id": "VFsTfgyJdQ5N"
      },
      "source": [
        "def recall(TP,FP,FN):\r\n",
        "  recal  = TP/(TP+FN)\r\n",
        "\r\n",
        "  return recal\r\n",
        "\r\n",
        "def precsion(TP,FP,FN):\r\n",
        "  precsions = TP/(TP+FP)\r\n",
        "\r\n",
        "  return precsions\r\n",
        "\r\n",
        "recal = recall(TP,FP,FN)\r\n",
        "precsions = precsion(TP,FP,FN)"
      ],
      "execution_count": 8,
      "outputs": []
    },
    {
      "cell_type": "code",
      "metadata": {
        "id": "an4cPJv8dTnN"
      },
      "source": [
        "def TPR1(TP,FN):\r\n",
        "  try:\r\n",
        "    tpr = TP/(TP+FN)\r\n",
        "  except ZeroDivisionError:\r\n",
        "    tpr = 0\r\n",
        "\r\n",
        "  return tpr\r\n",
        "\r\n",
        "def FPR1(FP,TN):\r\n",
        "  try:\r\n",
        "    fpr = FP/(FP+TN)\r\n",
        "\r\n",
        "  except ZeroDivisionError:\r\n",
        "    fpr = 0\r\n",
        "\r\n",
        "  return fpr\r\n",
        "\r\n",
        "TPR = TPR1(TP,FN)\r\n",
        "FPR = FPR1(FP,FN)"
      ],
      "execution_count": 9,
      "outputs": []
    },
    {
      "cell_type": "code",
      "metadata": {
        "id": "vH6w1Kf3dWS5",
        "outputId": "148d3924-617e-4e04-b5a3-98b5b220e1a0",
        "colab": {
          "base_uri": "https://localhost:8080/"
        }
      },
      "source": [
        "print(recal)\r\n",
        "print(precsions)\r\n",
        "print(TPR)\r\n",
        "print(FPR)"
      ],
      "execution_count": 10,
      "outputs": [
        {
          "output_type": "stream",
          "text": [
            "1.0\n",
            "0.9900990099009901\n",
            "1.0\n",
            "1.0\n"
          ],
          "name": "stdout"
        }
      ]
    },
    {
      "cell_type": "code",
      "metadata": {
        "id": "l46ZcyLqdZVa",
        "outputId": "5282b862-bad5-4eb7-a61a-528b34994221",
        "colab": {
          "base_uri": "https://localhost:8080/"
        }
      },
      "source": [
        "f1_score = 2*((recal*precsions)/(recal+precsions))\r\n",
        "print(f1_score)"
      ],
      "execution_count": 11,
      "outputs": [
        {
          "output_type": "stream",
          "text": [
            "0.9950248756218906\n"
          ],
          "name": "stdout"
        }
      ]
    },
    {
      "cell_type": "code",
      "metadata": {
        "id": "qkRK2WEhdt1_",
        "outputId": "754de706-d2f1-46f0-f3a4-2b0f7e68246d",
        "colab": {
          "base_uri": "https://localhost:8080/"
        }
      },
      "source": [
        "accuracy = (TP+TN)/(TP+FP+FN+TN)\r\n",
        "print(accuracy)"
      ],
      "execution_count": 12,
      "outputs": [
        {
          "output_type": "stream",
          "text": [
            "0.9900990099009901\n"
          ],
          "name": "stdout"
        }
      ]
    },
    {
      "cell_type": "code",
      "metadata": {
        "id": "bw_HrMJlduhi",
        "outputId": "a4f22029-2114-476a-e294-8d162a92262d",
        "colab": {
          "base_uri": "https://localhost:8080/"
        }
      },
      "source": [
        "sorted_y_pre = df.sort_values(by=['proba'])\r\n",
        "print(sorted_y_pre)"
      ],
      "execution_count": 13,
      "outputs": [
        {
          "output_type": "stream",
          "text": [
            "        y     proba  y_pre\n",
            "5012  1.0  0.500019      1\n",
            "805   1.0  0.500047      1\n",
            "7421  1.0  0.500058      1\n",
            "1630  1.0  0.500058      1\n",
            "8294  1.0  0.500081      1\n",
            "...   ...       ...    ...\n",
            "8324  1.0  0.899768      1\n",
            "9592  1.0  0.899812      1\n",
            "1028  1.0  0.899825      1\n",
            "2099  1.0  0.899828      1\n",
            "1664  1.0  0.899965      1\n",
            "\n",
            "[10100 rows x 3 columns]\n"
          ],
          "name": "stdout"
        }
      ]
    },
    {
      "cell_type": "code",
      "metadata": {
        "id": "ShPd8GbYdxpV"
      },
      "source": [
        "threshold = sorted_y_pre['proba'].values.tolist()\r\n",
        "sort_y = sorted_y_pre['y'].values.tolist()"
      ],
      "execution_count": 14,
      "outputs": []
    },
    {
      "cell_type": "code",
      "metadata": {
        "id": "8Eu51e2Kd0x8"
      },
      "source": [
        "def compare(value,y,df):\r\n",
        "  result = []\r\n",
        "  final_result = []\r\n",
        "  tpr_list = []\r\n",
        "  fpr_list = []\r\n",
        "  s = df['y'].value_counts()\r\n",
        "  P = s[1]\r\n",
        "  N = s[0]\r\n",
        "  for i in range(0,10100):\r\n",
        "    temp = value[i]\r\n",
        "    result = []\r\n",
        "    for j in range(0,10100):\r\n",
        "      if temp < value[j]:\r\n",
        "        result.append(1)\r\n",
        "      else:\r\n",
        "        result.append(0) \r\n",
        "    final_result.append(result)\r\n",
        "    TP, FP, FN, TN = confusion(y,final_result[i])\r\n",
        "    tpr_list.append(TP/P)\r\n",
        "    fpr_list.append(FP/N)\r\n",
        "    \r\n",
        "  return tpr_list,fpr_list\r\n",
        "\r\n",
        "tpr_list, fpr_list = compare(threshold,sort_y,sorted_y_pre)"
      ],
      "execution_count": 15,
      "outputs": []
    },
    {
      "cell_type": "code",
      "metadata": {
        "id": "RKEG9RZGd5ha"
      },
      "source": [
        "tpr_list.reverse()\r\n",
        "fpr_list.reverse()"
      ],
      "execution_count": 16,
      "outputs": []
    },
    {
      "cell_type": "code",
      "metadata": {
        "id": "Rt1zm1ord8kX",
        "outputId": "cf79cc8c-aa00-4c9b-8e76-cef51aa54032",
        "colab": {
          "base_uri": "https://localhost:8080/"
        }
      },
      "source": [
        "roc_auc = np.trapz(tpr_list, fpr_list)\r\n",
        "print(roc_auc)"
      ],
      "execution_count": 17,
      "outputs": [
        {
          "output_type": "stream",
          "text": [
            "0.48829900000000004\n"
          ],
          "name": "stdout"
        }
      ]
    },
    {
      "cell_type": "code",
      "metadata": {
        "id": "mCkR9CpNd_pt",
        "outputId": "94aaa987-3a0a-4dc3-cac3-8277978b6265",
        "colab": {
          "base_uri": "https://localhost:8080/",
          "height": 295
        }
      },
      "source": [
        "import matplotlib.pyplot as plt\r\n",
        "\r\n",
        "plt.title('Receiver Operating Characteristic')\r\n",
        "plt.plot(fpr_list, tpr_list, label='AUC = %0.4f'% (roc_auc))\r\n",
        "plt.legend(loc='lower right')\r\n",
        "plt.plot([0,1],[0,1],'r--')\r\n",
        "plt.xlim([-0.001, 1])\r\n",
        "plt.ylim([0, 1.001])\r\n",
        "plt.ylabel('True Positive Rate')\r\n",
        "plt.xlabel('False Positive Rate')\r\n",
        "plt.show();"
      ],
      "execution_count": 18,
      "outputs": [
        {
          "output_type": "display_data",
          "data": {
            "image/png": "[encoded data removed]",
            "text/plain": [
              "<Figure size 432x288 with 1 Axes>"
            ]
          },
          "metadata": {
            "tags": [],
            "needs_background": "light"
          }
        }
      ]
    },
    {
      "cell_type": "markdown",
      "metadata": {
        "id": "V5KZem1BQvn2"
      },
      "source": [
        "<pre>\n",
        "<font color='red'><b>B.</b></font> Compute performance metrics for the given data <strong>5_b.csv</strong>\n",
        "   <b>Note 1:</b> in this data you can see number of positive points << number of negatives points\n",
        "   <b>Note 2:</b> use pandas or numpy to read the data from <b>5_b.csv</b>\n",
        "   <b>Note 3:</b> you need to derive the class labels from given score</pre> $y^{pred}= \\text{[0 if y_score < 0.5 else 1]}$\n",
        "\n",
        "<pre>\n",
        "<ol>\n",
        "<li> Compute Confusion Matrix </li>\n",
        "<li> Compute F1 Score </li>\n",
        "<li> Compute AUC Score, you need to compute different thresholds and for each threshold compute tpr,fpr and then use               numpy.trapz(tpr_array, fpr_array) <a href='https://stackoverflow.com/q/53603376/4084039'>https://stackoverflow.com/q/53603376/4084039</a>, <a href='https://stackoverflow.com/a/39678975/4084039'>https://stackoverflow.com/a/39678975/4084039</a></li>\n",
        "<li> Compute Accuracy Score </li>\n",
        "</ol>\n",
        "</pre>"
      ]
    },
    {
      "cell_type": "code",
      "metadata": {
        "id": "U2sKlq0YQvn5",
        "colab": {
          "base_uri": "https://localhost:8080/",
          "height": 195
        },
        "outputId": "8e03a533-baa5-4968-a6df-c028b8a5831d"
      },
      "source": [
        "# write your code\r\n",
        "data=pd.read_csv(\"5_b.csv\")\r\n",
        "df = data.copy()\r\n",
        "df.head()"
      ],
      "execution_count": 19,
      "outputs": [
        {
          "output_type": "execute_result",
          "data": {
            "text/html": [
              "<div>\n",
              "<style scoped>\n",
              "    .dataframe tbody tr th:only-of-type {\n",
              "        vertical-align: middle;\n",
              "    }\n",
              "\n",
              "    .dataframe tbody tr th {\n",
              "        vertical-align: top;\n",
              "    }\n",
              "\n",
              "    .dataframe thead th {\n",
              "        text-align: right;\n",
              "    }\n",
              "</style>\n",
              "<table border=\"1\" class=\"dataframe\">\n",
              "  <thead>\n",
              "    <tr style=\"text-align: right;\">\n",
              "      <th></th>\n",
              "      <th>y</th>\n",
              "      <th>proba</th>\n",
              "    </tr>\n",
              "  </thead>\n",
              "  <tbody>\n",
              "    <tr>\n",
              "      <th>0</th>\n",
              "      <td>0.0</td>\n",
              "      <td>0.281035</td>\n",
              "    </tr>\n",
              "    <tr>\n",
              "      <th>1</th>\n",
              "      <td>0.0</td>\n",
              "      <td>0.465152</td>\n",
              "    </tr>\n",
              "    <tr>\n",
              "      <th>2</th>\n",
              "      <td>0.0</td>\n",
              "      <td>0.352793</td>\n",
              "    </tr>\n",
              "    <tr>\n",
              "      <th>3</th>\n",
              "      <td>0.0</td>\n",
              "      <td>0.157818</td>\n",
              "    </tr>\n",
              "    <tr>\n",
              "      <th>4</th>\n",
              "      <td>0.0</td>\n",
              "      <td>0.276648</td>\n",
              "    </tr>\n",
              "  </tbody>\n",
              "</table>\n",
              "</div>"
            ],
            "text/plain": [
              "     y     proba\n",
              "0  0.0  0.281035\n",
              "1  0.0  0.465152\n",
              "2  0.0  0.352793\n",
              "3  0.0  0.157818\n",
              "4  0.0  0.276648"
            ]
          },
          "metadata": {
            "tags": []
          },
          "execution_count": 19
        }
      ]
    },
    {
      "cell_type": "code",
      "metadata": {
        "id": "XpTlhBhIe071"
      },
      "source": [
        "def getAnalysis(proba):\r\n",
        "    if proba < 0.5:\r\n",
        "        return 0\r\n",
        "    else:\r\n",
        "        return 1"
      ],
      "execution_count": 20,
      "outputs": []
    },
    {
      "cell_type": "code",
      "metadata": {
        "id": "knwXwkYne34f",
        "outputId": "1496cc08-5af2-49c4-a4f3-c16ad6c91a4c",
        "colab": {
          "base_uri": "https://localhost:8080/",
          "height": 195
        }
      },
      "source": [
        "df['y_pre'] = df['proba'].apply(getAnalysis)\r\n",
        "df.head()"
      ],
      "execution_count": 21,
      "outputs": [
        {
          "output_type": "execute_result",
          "data": {
            "text/html": [
              "<div>\n",
              "<style scoped>\n",
              "    .dataframe tbody tr th:only-of-type {\n",
              "        vertical-align: middle;\n",
              "    }\n",
              "\n",
              "    .dataframe tbody tr th {\n",
              "        vertical-align: top;\n",
              "    }\n",
              "\n",
              "    .dataframe thead th {\n",
              "        text-align: right;\n",
              "    }\n",
              "</style>\n",
              "<table border=\"1\" class=\"dataframe\">\n",
              "  <thead>\n",
              "    <tr style=\"text-align: right;\">\n",
              "      <th></th>\n",
              "      <th>y</th>\n",
              "      <th>proba</th>\n",
              "      <th>y_pre</th>\n",
              "    </tr>\n",
              "  </thead>\n",
              "  <tbody>\n",
              "    <tr>\n",
              "      <th>0</th>\n",
              "      <td>0.0</td>\n",
              "      <td>0.281035</td>\n",
              "      <td>0</td>\n",
              "    </tr>\n",
              "    <tr>\n",
              "      <th>1</th>\n",
              "      <td>0.0</td>\n",
              "      <td>0.465152</td>\n",
              "      <td>0</td>\n",
              "    </tr>\n",
              "    <tr>\n",
              "      <th>2</th>\n",
              "      <td>0.0</td>\n",
              "      <td>0.352793</td>\n",
              "      <td>0</td>\n",
              "    </tr>\n",
              "    <tr>\n",
              "      <th>3</th>\n",
              "      <td>0.0</td>\n",
              "      <td>0.157818</td>\n",
              "      <td>0</td>\n",
              "    </tr>\n",
              "    <tr>\n",
              "      <th>4</th>\n",
              "      <td>0.0</td>\n",
              "      <td>0.276648</td>\n",
              "      <td>0</td>\n",
              "    </tr>\n",
              "  </tbody>\n",
              "</table>\n",
              "</div>"
            ],
            "text/plain": [
              "     y     proba  y_pre\n",
              "0  0.0  0.281035      0\n",
              "1  0.0  0.465152      0\n",
              "2  0.0  0.352793      0\n",
              "3  0.0  0.157818      0\n",
              "4  0.0  0.276648      0"
            ]
          },
          "metadata": {
            "tags": []
          },
          "execution_count": 21
        }
      ]
    },
    {
      "cell_type": "code",
      "metadata": {
        "id": "Idn3i23Be6nb"
      },
      "source": [
        "y= df['y']\r\n",
        "proba = df['y_pre']\r\n",
        "\r\n",
        "def confusion(y,proba):\r\n",
        "\r\n",
        "  TP = 0\r\n",
        "  FP = 0\r\n",
        "  FN = 0\r\n",
        "  TN = 0\r\n",
        "\r\n",
        "  for i, j in zip(y, proba):\r\n",
        "    if i == 1 and j == 1:\r\n",
        "      TP = TP + 1\r\n",
        "    \r\n",
        "    \r\n",
        "    elif i == 0 and j == 1:\r\n",
        "      FP = FP + 1\r\n",
        "\r\n",
        "    \r\n",
        "    elif i == 0 and j == 0:\r\n",
        "      TN = TN + 1\r\n",
        "\r\n",
        "\r\n",
        "    elif i == 1 and j == 0:\r\n",
        "      FN = FN + 1                           \r\n",
        "\r\n",
        "\r\n",
        "  return TP, FP, FN, TN\r\n",
        "\r\n",
        "TP, FP, FN, TN = confusion(y,proba)"
      ],
      "execution_count": 22,
      "outputs": []
    },
    {
      "cell_type": "code",
      "metadata": {
        "id": "mvErR191e68j",
        "outputId": "b28defc9-da9e-40aa-d26e-402f91c73788",
        "colab": {
          "base_uri": "https://localhost:8080/"
        }
      },
      "source": [
        "A = [TN,FN]\r\n",
        "B = [FP,TP]\r\n",
        "\r\n",
        "print(A,B)"
      ],
      "execution_count": 23,
      "outputs": [
        {
          "output_type": "stream",
          "text": [
            "[9761, 45] [239, 55]\n"
          ],
          "name": "stdout"
        }
      ]
    },
    {
      "cell_type": "code",
      "metadata": {
        "id": "IFkK7Pspe7P0",
        "outputId": "48ddf54f-27b7-44fd-d74a-170969bbfb56",
        "colab": {
          "base_uri": "https://localhost:8080/"
        }
      },
      "source": [
        "Confusion_matrix = np.matrix([A, B])\r\n",
        "\r\n",
        "print(Confusion_matrix )"
      ],
      "execution_count": 24,
      "outputs": [
        {
          "output_type": "stream",
          "text": [
            "[[9761   45]\n",
            " [ 239   55]]\n"
          ],
          "name": "stdout"
        }
      ]
    },
    {
      "cell_type": "code",
      "metadata": {
        "id": "O3BuvD-Le7mW"
      },
      "source": [
        "def recall(TP,FP,FN):\r\n",
        "  recal  = TP/(TP+FN)\r\n",
        "\r\n",
        "  return recal\r\n",
        "\r\n",
        "def precsion(TP,FP,FN):\r\n",
        "  precsions = TP/(TP+FP)\r\n",
        "\r\n",
        "  return precsions\r\n",
        "\r\n",
        "recal = recall(TP,FP,FN)\r\n",
        "precsions = precsion(TP,FP,FN)"
      ],
      "execution_count": 25,
      "outputs": []
    },
    {
      "cell_type": "code",
      "metadata": {
        "id": "z8SfV8M1e79S"
      },
      "source": [
        "def TPR1(TP,FN):\r\n",
        "  try:\r\n",
        "    tpr = TP/(TP+FN)\r\n",
        "  except ZeroDivisionError:\r\n",
        "    tpr = 0\r\n",
        "\r\n",
        "  return tpr\r\n",
        "\r\n",
        "def FPR1(FP,TN):\r\n",
        "  try:\r\n",
        "    fpr = FP/(FP+TN)\r\n",
        "\r\n",
        "  except ZeroDivisionError:\r\n",
        "    fpr = 0\r\n",
        "\r\n",
        "  return fpr\r\n",
        "\r\n",
        "TPR = TPR1(TP,FN)\r\n",
        "FPR = FPR1(FP,FN)"
      ],
      "execution_count": 26,
      "outputs": []
    },
    {
      "cell_type": "code",
      "metadata": {
        "id": "N2gdzyjMe8XW",
        "outputId": "bf268fd7-4800-42c1-af0b-be5e70e7647d",
        "colab": {
          "base_uri": "https://localhost:8080/"
        }
      },
      "source": [
        "print(recal)\r\n",
        "print(precsions)\r\n",
        "print(TPR)\r\n",
        "print(FPR)"
      ],
      "execution_count": 27,
      "outputs": [
        {
          "output_type": "stream",
          "text": [
            "0.55\n",
            "0.1870748299319728\n",
            "0.55\n",
            "0.8415492957746479\n"
          ],
          "name": "stdout"
        }
      ]
    },
    {
      "cell_type": "code",
      "metadata": {
        "id": "IUeHBOFLfRry",
        "outputId": "edd69777-c76b-404f-85ae-71e48f824319",
        "colab": {
          "base_uri": "https://localhost:8080/"
        }
      },
      "source": [
        "f1_score = 2*((recal*precsions)/(recal+precsions))\r\n",
        "print(f1_score)"
      ],
      "execution_count": 28,
      "outputs": [
        {
          "output_type": "stream",
          "text": [
            "0.2791878172588833\n"
          ],
          "name": "stdout"
        }
      ]
    },
    {
      "cell_type": "code",
      "metadata": {
        "id": "hTNVdTWofSGF",
        "outputId": "d676e4e2-393d-43e0-f597-0a358983109a",
        "colab": {
          "base_uri": "https://localhost:8080/"
        }
      },
      "source": [
        "accuracy = (TP+TN)/(TP+FP+FN+TN)\r\n",
        "print(accuracy)"
      ],
      "execution_count": 29,
      "outputs": [
        {
          "output_type": "stream",
          "text": [
            "0.9718811881188119\n"
          ],
          "name": "stdout"
        }
      ]
    },
    {
      "cell_type": "code",
      "metadata": {
        "id": "POM0ggb3fSZP",
        "outputId": "ea340e98-a1b0-4c61-d563-d715b87ea4da",
        "colab": {
          "base_uri": "https://localhost:8080/"
        }
      },
      "source": [
        "sorted_y_pre = df.sort_values(by=['proba'])\r\n",
        "print(sorted_y_pre)"
      ],
      "execution_count": 30,
      "outputs": [
        {
          "output_type": "stream",
          "text": [
            "        y     proba  y_pre\n",
            "313   0.0  0.100001      0\n",
            "1938  0.0  0.100161      0\n",
            "1360  0.0  0.100165      0\n",
            "2532  0.0  0.100189      0\n",
            "8290  0.0  0.100230      0\n",
            "...   ...       ...    ...\n",
            "8578  1.0  0.588718      1\n",
            "110   1.0  0.590171      1\n",
            "1657  1.0  0.592198      1\n",
            "1978  1.0  0.594808      1\n",
            "8446  1.0  0.595294      1\n",
            "\n",
            "[10100 rows x 3 columns]\n"
          ],
          "name": "stdout"
        }
      ]
    },
    {
      "cell_type": "code",
      "metadata": {
        "id": "SL14qK7CfS-B"
      },
      "source": [
        "threshold = sorted_y_pre['proba'].values.tolist()\r\n",
        "sort_y = sorted_y_pre['y'].values.tolist()"
      ],
      "execution_count": 31,
      "outputs": []
    },
    {
      "cell_type": "code",
      "metadata": {
        "id": "oK1ep1Diff33"
      },
      "source": [
        "def compare(value,y,df):\r\n",
        "  result = []\r\n",
        "  final_result = []\r\n",
        "  tpr_list = []\r\n",
        "  fpr_list = []\r\n",
        "  s = df['y'].value_counts()\r\n",
        "  P = s[1]\r\n",
        "  N = s[0]\r\n",
        "  for i in range(0,10100):\r\n",
        "    temp = value[i]\r\n",
        "    result = []\r\n",
        "    for j in range(0,10100):\r\n",
        "      if temp < value[j]:\r\n",
        "        result.append(1)\r\n",
        "      else:\r\n",
        "        result.append(0) \r\n",
        "    final_result.append(result)\r\n",
        "    TP, FP, FN, TN = confusion(y,final_result[i])\r\n",
        "    tpr_list.append(TP/P)\r\n",
        "    fpr_list.append(FP/N)\r\n",
        "    \r\n",
        "  return tpr_list,fpr_list\r\n",
        "\r\n",
        "tpr_list, fpr_list = compare(threshold,sort_y,sorted_y_pre)"
      ],
      "execution_count": 32,
      "outputs": []
    },
    {
      "cell_type": "code",
      "metadata": {
        "id": "67J-t8SLfgOe"
      },
      "source": [
        "tpr_list.reverse()\r\n",
        "fpr_list.reverse()"
      ],
      "execution_count": 33,
      "outputs": []
    },
    {
      "cell_type": "code",
      "metadata": {
        "id": "Jp6V0OWmfgo7",
        "outputId": "3e726454-2dc4-4793-b6d0-8de3e01cddc3",
        "colab": {
          "base_uri": "https://localhost:8080/"
        }
      },
      "source": [
        "roc_auc = np.trapz(tpr_list, fpr_list)\r\n",
        "print(roc_auc)"
      ],
      "execution_count": 34,
      "outputs": [
        {
          "output_type": "stream",
          "text": [
            "0.9376570000000001\n"
          ],
          "name": "stdout"
        }
      ]
    },
    {
      "cell_type": "code",
      "metadata": {
        "id": "DpQUW5ZYfpxC",
        "outputId": "5902edb1-c424-401c-84e0-e8c97572d750",
        "colab": {
          "base_uri": "https://localhost:8080/",
          "height": 295
        }
      },
      "source": [
        "import matplotlib.pyplot as plt\r\n",
        "\r\n",
        "plt.title('Receiver Operating Characteristic')\r\n",
        "plt.plot(fpr_list, tpr_list, label='AUC = %0.4f'% (roc_auc))\r\n",
        "plt.legend(loc='lower right')\r\n",
        "plt.plot([0,1],[0,1],'r--')\r\n",
        "plt.xlim([-0.001, 1])\r\n",
        "plt.ylim([0, 1.001])\r\n",
        "plt.ylabel('True Positive Rate')\r\n",
        "plt.xlabel('False Positive Rate')\r\n",
        "plt.show();"
      ],
      "execution_count": 35,
      "outputs": [
        {
          "output_type": "display_data",
          "data": {
            "image/png": "[encoded data removed]",
            "text/plain": [
              "<Figure size 432x288 with 1 Axes>"
            ]
          },
          "metadata": {
            "tags": [],
            "needs_background": "light"
          }
        }
      ]
    },
    {
      "cell_type": "markdown",
      "metadata": {
        "id": "GiPGonTzQvoB"
      },
      "source": [
        "<font color='red'><b>C.</b></font> Compute the best threshold (similarly to ROC curve computation) of probability which gives lowest values of metric <b>A</b> for the given data <strong>5_c.csv</strong>\n",
        "<br>\n",
        "\n",
        "you will be predicting label of a data points like this: $y^{pred}= \\text{[0 if y_score < threshold  else 1]}$\n",
        "\n",
        "$ A = 500 \\times \\text{number of false negative} + 100 \\times \\text{numebr of false positive}$\n",
        "\n",
        "<pre>\n",
        "   <b>Note 1:</b> in this data you can see number of negative points > number of positive points\n",
        "   <b>Note 2:</b> use pandas or numpy to read the data from <b>5_c.csv</b>\n",
        "</pre>"
      ]
    },
    {
      "cell_type": "code",
      "metadata": {
        "id": "x5HIJzq1QvoE",
        "colab": {
          "base_uri": "https://localhost:8080/",
          "height": 195
        },
        "outputId": "6ce275b0-7af8-4429-b6eb-9f65a699ea43"
      },
      "source": [
        " # write your code\r\n",
        "\r\n",
        "data=pd.read_csv(\"5_c.csv\")\r\n",
        "df = data.copy()\r\n",
        "df.head()"
      ],
      "execution_count": 36,
      "outputs": [
        {
          "output_type": "execute_result",
          "data": {
            "text/html": [
              "<div>\n",
              "<style scoped>\n",
              "    .dataframe tbody tr th:only-of-type {\n",
              "        vertical-align: middle;\n",
              "    }\n",
              "\n",
              "    .dataframe tbody tr th {\n",
              "        vertical-align: top;\n",
              "    }\n",
              "\n",
              "    .dataframe thead th {\n",
              "        text-align: right;\n",
              "    }\n",
              "</style>\n",
              "<table border=\"1\" class=\"dataframe\">\n",
              "  <thead>\n",
              "    <tr style=\"text-align: right;\">\n",
              "      <th></th>\n",
              "      <th>y</th>\n",
              "      <th>prob</th>\n",
              "    </tr>\n",
              "  </thead>\n",
              "  <tbody>\n",
              "    <tr>\n",
              "      <th>0</th>\n",
              "      <td>0</td>\n",
              "      <td>0.458521</td>\n",
              "    </tr>\n",
              "    <tr>\n",
              "      <th>1</th>\n",
              "      <td>0</td>\n",
              "      <td>0.505037</td>\n",
              "    </tr>\n",
              "    <tr>\n",
              "      <th>2</th>\n",
              "      <td>0</td>\n",
              "      <td>0.418652</td>\n",
              "    </tr>\n",
              "    <tr>\n",
              "      <th>3</th>\n",
              "      <td>0</td>\n",
              "      <td>0.412057</td>\n",
              "    </tr>\n",
              "    <tr>\n",
              "      <th>4</th>\n",
              "      <td>0</td>\n",
              "      <td>0.375579</td>\n",
              "    </tr>\n",
              "  </tbody>\n",
              "</table>\n",
              "</div>"
            ],
            "text/plain": [
              "   y      prob\n",
              "0  0  0.458521\n",
              "1  0  0.505037\n",
              "2  0  0.418652\n",
              "3  0  0.412057\n",
              "4  0  0.375579"
            ]
          },
          "metadata": {
            "tags": []
          },
          "execution_count": 36
        }
      ]
    },
    {
      "cell_type": "code",
      "metadata": {
        "id": "tpgpR5AxgKiE"
      },
      "source": [
        "def getAnalysis(prob):\r\n",
        "    if prob < 0.5:\r\n",
        "        return 0\r\n",
        "    else:\r\n",
        "        return 1"
      ],
      "execution_count": 37,
      "outputs": []
    },
    {
      "cell_type": "code",
      "metadata": {
        "id": "LQCNxvArgOAa",
        "outputId": "29e8e937-bf0b-462a-ce53-82ecc62ebb47",
        "colab": {
          "base_uri": "https://localhost:8080/",
          "height": 195
        }
      },
      "source": [
        "df['y_pre'] = df['prob'].apply(getAnalysis)\r\n",
        "df.head()"
      ],
      "execution_count": 38,
      "outputs": [
        {
          "output_type": "execute_result",
          "data": {
            "text/html": [
              "<div>\n",
              "<style scoped>\n",
              "    .dataframe tbody tr th:only-of-type {\n",
              "        vertical-align: middle;\n",
              "    }\n",
              "\n",
              "    .dataframe tbody tr th {\n",
              "        vertical-align: top;\n",
              "    }\n",
              "\n",
              "    .dataframe thead th {\n",
              "        text-align: right;\n",
              "    }\n",
              "</style>\n",
              "<table border=\"1\" class=\"dataframe\">\n",
              "  <thead>\n",
              "    <tr style=\"text-align: right;\">\n",
              "      <th></th>\n",
              "      <th>y</th>\n",
              "      <th>prob</th>\n",
              "      <th>y_pre</th>\n",
              "    </tr>\n",
              "  </thead>\n",
              "  <tbody>\n",
              "    <tr>\n",
              "      <th>0</th>\n",
              "      <td>0</td>\n",
              "      <td>0.458521</td>\n",
              "      <td>0</td>\n",
              "    </tr>\n",
              "    <tr>\n",
              "      <th>1</th>\n",
              "      <td>0</td>\n",
              "      <td>0.505037</td>\n",
              "      <td>1</td>\n",
              "    </tr>\n",
              "    <tr>\n",
              "      <th>2</th>\n",
              "      <td>0</td>\n",
              "      <td>0.418652</td>\n",
              "      <td>0</td>\n",
              "    </tr>\n",
              "    <tr>\n",
              "      <th>3</th>\n",
              "      <td>0</td>\n",
              "      <td>0.412057</td>\n",
              "      <td>0</td>\n",
              "    </tr>\n",
              "    <tr>\n",
              "      <th>4</th>\n",
              "      <td>0</td>\n",
              "      <td>0.375579</td>\n",
              "      <td>0</td>\n",
              "    </tr>\n",
              "  </tbody>\n",
              "</table>\n",
              "</div>"
            ],
            "text/plain": [
              "   y      prob  y_pre\n",
              "0  0  0.458521      0\n",
              "1  0  0.505037      1\n",
              "2  0  0.418652      0\n",
              "3  0  0.412057      0\n",
              "4  0  0.375579      0"
            ]
          },
          "metadata": {
            "tags": []
          },
          "execution_count": 38
        }
      ]
    },
    {
      "cell_type": "code",
      "metadata": {
        "id": "e5dQSxA6gQtO"
      },
      "source": [
        "y= df['y']\r\n",
        "proba = df['y_pre']\r\n",
        "\r\n",
        "def confusion(y,proba):\r\n",
        "\r\n",
        "  TP = 0\r\n",
        "  FP = 0\r\n",
        "  FN = 0\r\n",
        "  TN = 0\r\n",
        "\r\n",
        "  for i, j in zip(y, proba):\r\n",
        "    if i == 1 and j == 1:\r\n",
        "      TP = TP + 1\r\n",
        "    \r\n",
        "    \r\n",
        "    elif i == 0 and j == 1:\r\n",
        "      FP = FP + 1\r\n",
        "\r\n",
        "    \r\n",
        "    elif i == 0 and j == 0:\r\n",
        "      TN = TN + 1\r\n",
        "\r\n",
        "\r\n",
        "    elif i == 1 and j == 0:\r\n",
        "      FN = FN + 1                           \r\n",
        "\r\n",
        "\r\n",
        "  return TP, FP, FN, TN\r\n",
        "\r\n",
        "TP, FP, FN, TN = confusion(y,proba)"
      ],
      "execution_count": 39,
      "outputs": []
    },
    {
      "cell_type": "code",
      "metadata": {
        "id": "SyE0aHyIgWLd",
        "outputId": "aa2b49c4-131a-4050-c426-760a300502bd",
        "colab": {
          "base_uri": "https://localhost:8080/"
        }
      },
      "source": [
        "A = [TN,FN]\r\n",
        "B = [FP,TP]\r\n",
        "\r\n",
        "print(A,B)"
      ],
      "execution_count": 40,
      "outputs": [
        {
          "output_type": "stream",
          "text": [
            "[1637, 462] [168, 585]\n"
          ],
          "name": "stdout"
        }
      ]
    },
    {
      "cell_type": "code",
      "metadata": {
        "id": "wzrL0Y-cgmIM",
        "outputId": "2b2425c8-a21e-4e59-c467-79b9f117bfa7",
        "colab": {
          "base_uri": "https://localhost:8080/"
        }
      },
      "source": [
        "Confusion_matrix = np.matrix([A, B])\r\n",
        "\r\n",
        "print(Confusion_matrix )"
      ],
      "execution_count": 43,
      "outputs": [
        {
          "output_type": "stream",
          "text": [
            "[[1637  462]\n",
            " [ 168  585]]\n"
          ],
          "name": "stdout"
        }
      ]
    },
    {
      "cell_type": "code",
      "metadata": {
        "id": "hbCycy2igo3A"
      },
      "source": [
        "def recall(TP,FP,FN):\r\n",
        "  recal  = TP/(TP+FN)\r\n",
        "\r\n",
        "  return recal\r\n",
        "\r\n",
        "def precsion(TP,FP,FN):\r\n",
        "  precsions = TP/(TP+FP)\r\n",
        "\r\n",
        "  return precsions\r\n",
        "\r\n",
        "recal = recall(TP,FP,FN)\r\n",
        "precsions = precsion(TP,FP,FN)"
      ],
      "execution_count": 44,
      "outputs": []
    },
    {
      "cell_type": "code",
      "metadata": {
        "id": "ZPea2nGqgpaW"
      },
      "source": [
        "def TPR1(TP,FN):\r\n",
        "  try:\r\n",
        "    tpr = TP/(TP+FN)\r\n",
        "  except ZeroDivisionError:\r\n",
        "    tpr = 0\r\n",
        "\r\n",
        "  return tpr\r\n",
        "\r\n",
        "def FPR1(FP,TN):\r\n",
        "  try:\r\n",
        "    fpr = FP/(FP+TN)\r\n",
        "\r\n",
        "  except ZeroDivisionError:\r\n",
        "    fpr = 0\r\n",
        "\r\n",
        "  return fpr\r\n",
        "\r\n",
        "TPR = TPR1(TP,FN)\r\n",
        "FPR = FPR1(FP,FN)"
      ],
      "execution_count": 45,
      "outputs": []
    },
    {
      "cell_type": "code",
      "metadata": {
        "id": "HRtv8VKegpwU",
        "outputId": "2af48b9d-2c66-47a2-8066-a66c81f2854e",
        "colab": {
          "base_uri": "https://localhost:8080/"
        }
      },
      "source": [
        "print(recal)\r\n",
        "print(precsions)\r\n",
        "print(TPR)\r\n",
        "print(FPR)"
      ],
      "execution_count": 46,
      "outputs": [
        {
          "output_type": "stream",
          "text": [
            "0.5587392550143266\n",
            "0.7768924302788844\n",
            "0.5587392550143266\n",
            "0.26666666666666666\n"
          ],
          "name": "stdout"
        }
      ]
    },
    {
      "cell_type": "code",
      "metadata": {
        "id": "BobtHSPvgqIX",
        "outputId": "79ffe0e5-e202-4a5d-fd34-f4a5274e1476",
        "colab": {
          "base_uri": "https://localhost:8080/"
        }
      },
      "source": [
        "f1_score = 2*((recal*precsions)/(recal+precsions))\r\n",
        "print(f1_score)"
      ],
      "execution_count": 47,
      "outputs": [
        {
          "output_type": "stream",
          "text": [
            "0.65\n"
          ],
          "name": "stdout"
        }
      ]
    },
    {
      "cell_type": "code",
      "metadata": {
        "id": "CGQXfXr7gqe7",
        "outputId": "6361b5f4-c3b2-4f44-fea9-12e7d51da3c4",
        "colab": {
          "base_uri": "https://localhost:8080/"
        }
      },
      "source": [
        "accuracy = (TP+TN)/(TP+FP+FN+TN)\r\n",
        "print(accuracy)"
      ],
      "execution_count": 48,
      "outputs": [
        {
          "output_type": "stream",
          "text": [
            "0.7791023842917251\n"
          ],
          "name": "stdout"
        }
      ]
    },
    {
      "cell_type": "code",
      "metadata": {
        "id": "N3IZclikgrIe",
        "outputId": "9e8f6c8f-f76e-4a40-9298-b251d72671d7",
        "colab": {
          "base_uri": "https://localhost:8080/"
        }
      },
      "source": [
        "sorted_y_pre = df.sort_values(by=['prob'])\r\n",
        "print(sorted_y_pre)"
      ],
      "execution_count": 49,
      "outputs": [
        {
          "output_type": "stream",
          "text": [
            "      y      prob  y_pre\n",
            "473   0  0.028038      0\n",
            "412   0  0.028396      0\n",
            "454   0  0.028964      0\n",
            "435   0  0.030269      0\n",
            "468   0  0.031114      0\n",
            "...  ..       ...    ...\n",
            "2456  1  0.941113      1\n",
            "2788  1  0.944094      1\n",
            "2447  1  0.948638      1\n",
            "2548  1  0.951437      1\n",
            "2634  1  0.957747      1\n",
            "\n",
            "[2852 rows x 3 columns]\n"
          ],
          "name": "stdout"
        }
      ]
    },
    {
      "cell_type": "code",
      "metadata": {
        "id": "s8vMglkRgrqY"
      },
      "source": [
        "threshold = sorted_y_pre['prob'].values.tolist()\r\n",
        "sort_y = sorted_y_pre['y'].values.tolist()"
      ],
      "execution_count": 50,
      "outputs": []
    },
    {
      "cell_type": "code",
      "metadata": {
        "id": "NeEFNJgShA5a",
        "outputId": "279c8f5a-5d1d-40cf-92f8-7d66756dd565",
        "colab": {
          "base_uri": "https://localhost:8080/"
        }
      },
      "source": [
        "def min_metric(value,y,df):\r\n",
        "  result = []\r\n",
        "  final_result = []\r\n",
        "  tpr_list = []\r\n",
        "  fpr_list = []\r\n",
        "  s = df['y'].value_counts()\r\n",
        "  P = s[1]\r\n",
        "  N = s[0]\r\n",
        "  metric = {}\r\n",
        "  for i in range(0,len(value)):\r\n",
        "    temp = value[i]\r\n",
        "    result = []\r\n",
        "    for j in range(0,len(value)):\r\n",
        "      if temp < value[j]:\r\n",
        "        result.append(1)\r\n",
        "      else:\r\n",
        "        result.append(0) \r\n",
        "    final_result.append(result)\r\n",
        "    TP, FP, FN, TN = confusion(y,final_result[i])\r\n",
        "    metric_val=(500*FN)+(100*FP)\r\n",
        "    metric[temp]=metric_val\r\n",
        "    \r\n",
        "  return (metric)\r\n",
        "\r\n",
        "result = min_metric(threshold,sort_y,sorted_y_pre)\r\n",
        "temp = min(result.values()) \r\n",
        "res = [key for key in result if result[key] == temp]\r\n",
        "print('the key:value pair for min value of the specified metric is-',res,temp)"
      ],
      "execution_count": 51,
      "outputs": [
        {
          "output_type": "stream",
          "text": [
            "the key:value pair for min value of the specified metric is- [0.22987164436159915] 141000\n"
          ],
          "name": "stdout"
        }
      ]
    },
    {
      "cell_type": "markdown",
      "metadata": {
        "id": "sD4CcgjXQvoL"
      },
      "source": [
        "<pre>\n",
        "<font color='red'><b>D.</b></font> Compute performance metrics(for regression) for the given data <strong>5_d.csv</strong>\n",
        "    <b>Note 2:</b> use pandas or numpy to read the data from <b>5_d.csv</b>\n",
        "    <b>Note 1:</b> <b>5_d.csv</b> will having two columns Y and predicted_Y both are real valued features\n",
        "<ol>\n",
        "<li> Compute Mean Square Error </li>\n",
        "<li> Compute MAPE: https://www.youtube.com/watch?v=ly6ztgIkUxk</li>\n",
        "<li> Compute R^2 error: https://en.wikipedia.org/wiki/Coefficient_of_determination#Definitions </li>\n",
        "</ol>\n",
        "</pre>"
      ]
    },
    {
      "cell_type": "code",
      "metadata": {
        "id": "bMMukk04iAAs",
        "outputId": "c13a0b92-9d40-4f9b-cdf8-b87288e31891",
        "colab": {
          "base_uri": "https://localhost:8080/",
          "height": 195
        }
      },
      "source": [
        "data_d=pd.read_csv(\"5_d.csv\")\r\n",
        "data_d.shape\r\n",
        "data_d.head()"
      ],
      "execution_count": 52,
      "outputs": [
        {
          "output_type": "execute_result",
          "data": {
            "text/html": [
              "<div>\n",
              "<style scoped>\n",
              "    .dataframe tbody tr th:only-of-type {\n",
              "        vertical-align: middle;\n",
              "    }\n",
              "\n",
              "    .dataframe tbody tr th {\n",
              "        vertical-align: top;\n",
              "    }\n",
              "\n",
              "    .dataframe thead th {\n",
              "        text-align: right;\n",
              "    }\n",
              "</style>\n",
              "<table border=\"1\" class=\"dataframe\">\n",
              "  <thead>\n",
              "    <tr style=\"text-align: right;\">\n",
              "      <th></th>\n",
              "      <th>y</th>\n",
              "      <th>pred</th>\n",
              "    </tr>\n",
              "  </thead>\n",
              "  <tbody>\n",
              "    <tr>\n",
              "      <th>0</th>\n",
              "      <td>101.0</td>\n",
              "      <td>100.0</td>\n",
              "    </tr>\n",
              "    <tr>\n",
              "      <th>1</th>\n",
              "      <td>120.0</td>\n",
              "      <td>100.0</td>\n",
              "    </tr>\n",
              "    <tr>\n",
              "      <th>2</th>\n",
              "      <td>131.0</td>\n",
              "      <td>113.0</td>\n",
              "    </tr>\n",
              "    <tr>\n",
              "      <th>3</th>\n",
              "      <td>164.0</td>\n",
              "      <td>125.0</td>\n",
              "    </tr>\n",
              "    <tr>\n",
              "      <th>4</th>\n",
              "      <td>154.0</td>\n",
              "      <td>152.0</td>\n",
              "    </tr>\n",
              "  </tbody>\n",
              "</table>\n",
              "</div>"
            ],
            "text/plain": [
              "       y   pred\n",
              "0  101.0  100.0\n",
              "1  120.0  100.0\n",
              "2  131.0  113.0\n",
              "3  164.0  125.0\n",
              "4  154.0  152.0"
            ]
          },
          "metadata": {
            "tags": []
          },
          "execution_count": 52
        }
      ]
    },
    {
      "cell_type": "code",
      "metadata": {
        "id": "G-FD0WfwiWo0"
      },
      "source": [
        "def error(df,col1,col2):\r\n",
        "    val=[]\r\n",
        "    for index, (value1, value2) in enumerate(zip(df[col1], df[col2])):\r\n",
        "        val.append(value1-value2)\r\n",
        "    return val\r\n",
        "    \r\n",
        "def absolute_error(df,col):\r\n",
        "    val=[]\r\n",
        "    for index,value in enumerate(df[col]):\r\n",
        "        val.append(abs(value))\r\n",
        "    return val\r\n",
        "\r\n",
        "def mean_sq_error(df,col):\r\n",
        "    return ss_res(df,col)/len(df[col])\r\n",
        "\r\n",
        "def mape(df,col1,col2):\r\n",
        "    val=sum(df[col1])/sum(df[col2])\r\n",
        "    return val\r\n",
        "\r\n",
        "def ss_res(df,col):\r\n",
        "    val=0\r\n",
        "    for index,value in enumerate(df[col]):\r\n",
        "        val=val+(value*value)\r\n",
        "    return val\r\n",
        "\r\n",
        "def ss_tot(df,col):\r\n",
        "    val=0\r\n",
        "    mean_val=data_d['y'].mean()\r\n",
        "    for index,value in enumerate(df[col]):\r\n",
        "        val=val+ (value-mean_val)*(value-mean_val)\r\n",
        "    return val"
      ],
      "execution_count": 53,
      "outputs": []
    },
    {
      "cell_type": "code",
      "metadata": {
        "id": "Oa_5T7d9iaPR"
      },
      "source": [
        "data_d['error']=error(data_d,'y','pred')\r\n",
        "data_d['abs_error']=absolute_error(data_d,'error')"
      ],
      "execution_count": 54,
      "outputs": []
    },
    {
      "cell_type": "code",
      "metadata": {
        "id": "h3RZcIaliamB",
        "outputId": "60da0fab-0edd-4aca-dca9-7d3e5660d5c6",
        "colab": {
          "base_uri": "https://localhost:8080/"
        }
      },
      "source": [
        "MSE=mean_sq_error(data_d,'error')\r\n",
        "print(\"the Mean squared error is : \", MSE)"
      ],
      "execution_count": 55,
      "outputs": [
        {
          "output_type": "stream",
          "text": [
            "the Mean squared error is :  177.16569974554707\n"
          ],
          "name": "stdout"
        }
      ]
    },
    {
      "cell_type": "code",
      "metadata": {
        "id": "yd99Lj_qia78",
        "outputId": "c6ead698-07a2-4fec-b8e4-448f3d4cc3a9",
        "colab": {
          "base_uri": "https://localhost:8080/"
        }
      },
      "source": [
        "MAPE=mape(data_d,'abs_error','y')\r\n",
        "print('the MAPE value is :', MAPE)"
      ],
      "execution_count": 56,
      "outputs": [
        {
          "output_type": "stream",
          "text": [
            "the MAPE value is : 0.1291202994009687\n"
          ],
          "name": "stdout"
        }
      ]
    },
    {
      "cell_type": "code",
      "metadata": {
        "id": "lL7hfqrVijU2",
        "outputId": "319033e2-a13a-496b-cfb5-f0b5aaac7f27",
        "colab": {
          "base_uri": "https://localhost:8080/"
        }
      },
      "source": [
        "SS_RES=ss_res(data_d,'error')\r\n",
        "SS_TOT=ss_tot(data_d,'y')\r\n",
        "R_square= 1- (SS_RES/SS_TOT)\r\n",
        "print('the Co-efficient of determination value is: ',R_square)"
      ],
      "execution_count": 57,
      "outputs": [
        {
          "output_type": "stream",
          "text": [
            "the Co-efficient of determination value is:  0.9563582786990964\n"
          ],
          "name": "stdout"
        }
      ]
    }
  ]
}